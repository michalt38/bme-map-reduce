{
 "cells": [
  {
   "cell_type": "markdown",
   "metadata": {},
   "source": [
    "# Intro to map/reduce"
   ]
  },
  {
   "cell_type": "markdown",
   "metadata": {},
   "source": [
    "## Lambda function\n",
    "\n",
    "Python allows to create anonymous function, called lambda.\n",
    "Lambda function doesn't include return statement and doesn't have name."
   ]
  },
  {
   "cell_type": "code",
   "execution_count": 2,
   "metadata": {},
   "outputs": [
    {
     "name": "stdout",
     "output_type": "stream",
     "text": [
      "8\n",
      "8\n"
     ]
    }
   ],
   "source": [
    "# Standard function\n",
    "def power(base, exponent):\n",
    "    return base**exponent\n",
    "\n",
    "print(power(2,3))\n",
    "\n",
    "# Lambda construction\n",
    "p = lambda b,e: b**e\n",
    "    \n",
    "print(p(2,3))"
   ]
  },
  {
   "cell_type": "markdown",
   "metadata": {},
   "source": [
    "\n",
    "## filter function"
   ]
  },
  {
   "cell_type": "code",
   "execution_count": 3,
   "metadata": {},
   "outputs": [
    {
     "name": "stdout",
     "output_type": "stream",
     "text": [
      "[0, 1, 2, 3, 4, 5, 6, 7, 8, 9, 10, 11, 12, 13, 14, 15, 16, 17, 18, 19, 20, 21, 22, 23, 24, 25, 26, 27, 28, 29]\n"
     ]
    }
   ],
   "source": [
    "# We use list comprehension to create list with 100 numbers\n",
    "numbers = [x for x in range(30)]\n",
    "print(numbers)"
   ]
  },
  {
   "cell_type": "markdown",
   "metadata": {},
   "source": [
    "The filter resembles a for loop but it is a builtin function and faster.\n",
    "Filter always return an iterator!"
   ]
  },
  {
   "cell_type": "code",
   "execution_count": 4,
   "metadata": {},
   "outputs": [
    {
     "name": "stdout",
     "output_type": "stream",
     "text": [
      "0\n",
      "5\n",
      "10\n",
      "15\n",
      "20\n",
      "25\n"
     ]
    }
   ],
   "source": [
    "# Simple function that return true when the number is divided by 5\n",
    "def is_divided_by_5(number):\n",
    "    if number % 5 == 0:\n",
    "        return True\n",
    "    else:\n",
    "        return False\n",
    "\n",
    "numbers_div5_iterator = filter(is_divided_by_5, numbers)\n",
    "\n",
    "# filter return iterator, so we need use for loop to get all elements\n",
    "for n in numbers_div5_iterator:\n",
    "    print(n)"
   ]
  },
  {
   "cell_type": "code",
   "execution_count": 5,
   "metadata": {},
   "outputs": [
    {
     "name": "stdout",
     "output_type": "stream",
     "text": [
      "0\n",
      "5\n",
      "10\n",
      "15\n",
      "20\n",
      "25\n"
     ]
    }
   ],
   "source": [
    "# Similar code but with lambda construction\n",
    "numbers_div5_iterator = filter(lambda x: x % 5 == 0, numbers)\n",
    "\n",
    "for n in numbers_div5_iterator:\n",
    "    print(n)"
   ]
  },
  {
   "cell_type": "code",
   "execution_count": 6,
   "metadata": {},
   "outputs": [
    {
     "name": "stdout",
     "output_type": "stream",
     "text": [
      "[0, 5, 10, 15, 20, 25]\n",
      "[]\n"
     ]
    }
   ],
   "source": [
    "numbers_div5_iterator = filter(lambda x: x % 5 == 0, numbers)\n",
    "\n",
    "# Simple way to create list from iterator\n",
    "numbers_div5_list = list(numbers_div5_iterator)\n",
    "print(numbers_div5_list)\n",
    "\n",
    "# HINT: iterator can be used only once\n",
    "#       Python's iterator protocol is very simple, and only provides \n",
    "#       one single method (.next() or __next__()), \n",
    "#       and no method to reset an iterator in general.\n",
    "\n",
    "numbers_div5_list = list(numbers_div5_iterator)\n",
    "print(numbers_div5_list)"
   ]
  },
  {
   "cell_type": "code",
   "execution_count": 7,
   "metadata": {},
   "outputs": [
    {
     "name": "stdout",
     "output_type": "stream",
     "text": [
      "['Bob', 'Barbara']\n"
     ]
    }
   ],
   "source": [
    "# filter can be used with different type of lists\n",
    "\n",
    "names = ['Anne', 'Amy', 'Bob', 'David', 'Carrie', 'Barbara']\n",
    "names_start_with_b = list(filter(lambda s: s.startswith('B'), names))\n",
    "print(names_start_with_b)"
   ]
  },
  {
   "cell_type": "markdown",
   "metadata": {},
   "source": [
    "## map function\n",
    "\n",
    "Blueprint:   map(function_to_apply, list_of_inputs)"
   ]
  },
  {
   "cell_type": "code",
   "execution_count": 8,
   "metadata": {},
   "outputs": [
    {
     "name": "stdout",
     "output_type": "stream",
     "text": [
      "List1:  [1, 2, 3, 4, 5]\n",
      "List2:  [6, 7, 8, 9, 10]\n",
      "List result:  [7, 9, 11, 13, 15]\n"
     ]
    }
   ],
   "source": [
    "list_1 = [x for x in range(1,6)]\n",
    "list_2 = [x for x in range(6,11)]\n",
    "\n",
    "print('List1: ', list_1)\n",
    "print('List2: ', list_2)\n",
    "list_result = list(map(lambda x,y:x+y, list_1,list_2))\n",
    "print('List result: ', list_result)"
   ]
  },
  {
   "cell_type": "markdown",
   "metadata": {},
   "source": [
    "## reduce function\n",
    "\n",
    "Blueprint:   map(function_to_apply, list_of_inputs)\n",
    "             list_of_inputs = [el_1, el_2, el_3]\n",
    "\n",
    "The function is used to apply a function to all of the list elements. \n",
    "1. At the beginning the first the first two elements of list is applied to the function\n",
    "2. In the next step functiom is applied on the previous result and the third element of the list: function(function(el_1, el_2),el_3)"
   ]
  },
  {
   "cell_type": "code",
   "execution_count": 9,
   "metadata": {},
   "outputs": [
    {
     "name": "stdout",
     "output_type": "stream",
     "text": [
      "List1:  [1, 2, 3, 4, 5]\n",
      "List1 reduced:  15\n",
      "List1 reduced:  15\n"
     ]
    }
   ],
   "source": [
    "from functools import reduce\n",
    "\n",
    "def add(x,y):\n",
    "    return x + y\n",
    "\n",
    "list_1 = [x for x in range(1,6)]\n",
    "\n",
    "print('List1: ', list_1)\n",
    "print('List1 reduced: ', reduce(add, list_1))\n",
    "\n",
    "# The same example using lambda func\n",
    "print('List1 reduced: ', reduce(lambda x,y: x+y, list_1))"
   ]
  },
  {
   "cell_type": "markdown",
   "metadata": {},
   "source": [
    "## TODO"
   ]
  },
  {
   "cell_type": "code",
   "execution_count": 10,
   "metadata": {},
   "outputs": [
    {
     "name": "stdout",
     "output_type": "stream",
     "text": [
      "[6, 5, 6, 7]\n"
     ]
    }
   ],
   "source": [
    "xx = ['Snappy', 'Kitty', 'Jessie', 'Chester']\n",
    "#xx = [1,2,3]\n",
    "\n",
    "# TODO Create a list with the number of character of each word. Use map & len function\n",
    "#no_of_char = []\n",
    "no_of_char = list(map(lambda x : len(x), xx))\n",
    "print(no_of_char)\n"
   ]
  },
  {
   "cell_type": "code",
   "execution_count": 11,
   "metadata": {},
   "outputs": [
    {
     "name": "stdout",
     "output_type": "stream",
     "text": [
      "46\n"
     ]
    }
   ],
   "source": [
    "import string\n",
    "sentences = \"Lorem ipsum dolor sit amet, consectetuer adipiscing elit. Donec odio. \\\n",
    "Quisque volutpat mattis eros. Nullam malesuada erat ut turpis. Suspendisse urna nibh, \\\n",
    "viverra non, semper suscipit, posuere a, pede. \\\n",
    "Donec nec justo eget felis facilisis fermentum. Aliquam porttitor mauris sit amet orci. \\\n",
    "Aenean dignissim pellentesque felis.\"\n",
    "\n",
    "exclude = set(string.punctuation)\n",
    "sentences = ''.join(ch for ch in sentences if ch not in exclude)\n",
    "words = sentences.split()\n",
    "words = list(map(lambda x : 1, words))\n",
    "print(reduce(lambda x,y: x+y, words))\n",
    "\n",
    "# TODO Find the number of words in the sentence:\n",
    "\n",
    "## Hint:\n",
    "# 1. remove punctuations\n",
    "# 2. split the resulting sentence\n",
    "# 3. map \"1\" to each word of sentence\n",
    "# 4. reduce to find the number of words in the sentence"
   ]
  },
  {
   "cell_type": "code",
   "execution_count": 57,
   "metadata": {},
   "outputs": [
    {
     "name": "stdout",
     "output_type": "stream",
     "text": [
      "Apr-04 cola 1 5\n",
      "Dec-15 cola 2 4\n",
      "Feb-02 Sandwich 3 22\n",
      "Mar-03 burger 8 11\n",
      "Feb-22 Sandwich 3 22\n",
      "Feb-23 burger 5 15\n",
      "Mar-08 burger 2 14\n",
      "Feb-25 cola 3 4\n",
      "Mar-09 Sandwich 2 20\n",
      "Dec-16 burger 4 17\n",
      "\n",
      "Najwięcej sprzedano produktów : burger - 38\n",
      "[('Sandwich', 8, 8.0), ('cola', 6, 2.17), ('burger', 19, 3.0)]\n"
     ]
    }
   ],
   "source": [
    "# Log:  Date product no_of_items price\n",
    "\n",
    "log_1 = \"\"\"Apr-04 cola 1 5\n",
    "Dec-15 cola 2 4\n",
    "Feb-02 Sandwich 3 22\n",
    "Mar-03 burger 8 11\n",
    "Feb-22 Sandwich 3 22\n",
    "Feb-23 burger 5 15\n",
    "Mar-08 burger 2 14\n",
    "Feb-25 cola 3 4\n",
    "Mar-09 Sandwich 2 20\n",
    "Dec-16 burger 4 17\"\"\"    ## Add more examples\n",
    "\n",
    "print(log_1)\n",
    "\n",
    "log_list = [s.strip() for s in log_1.splitlines()]\n",
    "log_list = [(s.split()) for s in log_list]\n",
    "product_sum = list(set([s[1] for s in log_list]))\n",
    "items_sum = [0]*len(products_set)\n",
    "price_sum = [0]*len(products_set)\n",
    "products = list(map(lambda x: x[1],log_list))\n",
    "items = list(map(lambda x: int(x[2]),log_list))\n",
    "price = list(map(lambda x: int(x[3]),log_list))\n",
    "\n",
    "for x,val in enumerate(products) :\n",
    "    for y,prod in enumerate(product_sum) :\n",
    "        if prod == val :\n",
    "            items_sum[y]+=items[x]\n",
    "            price_sum[y]+=price[x]\n",
    "            \n",
    "index_max=items_sum.index(max(items_sum))\n",
    "print(\"\\nNajwięcej sprzedano produktów : {} - {}\".format(products_set[index_max],items_set[index_max]))\n",
    "\n",
    "price=list(map(lambda x,y: round(y/x,2),items_sum,price_sum))\n",
    "Summary=list(map(lambda x,y,z: (x,y,z),product_sum,items_sum,price))\n",
    "print(Summary)\n",
    "\n",
    "# TODO Find the best-selling item\n",
    "# TODO Create sales summary  [(product, total_items, average_price), (product, total_items, average_price) ...] "
   ]
  },
  {
   "cell_type": "markdown",
   "metadata": {},
   "source": [
    "## Miniproject\n",
    "\n",
    "1. Import book, clean the text and get the total number of words\n",
    "https://www.gutenberg.org/files/11/11-0.txt\n",
    "\n",
    "2. Try to run your script with text that include all TOP100 books from https://www.gutenberg.org/browse/scores/top\n",
    "\n",
    "3. What problems could appear during processing? Create a script to measure the execution/processing time. \n"
   ]
  },
  {
   "cell_type": "code",
   "execution_count": 63,
   "metadata": {},
   "outputs": [
    {
     "name": "stdout",
     "output_type": "stream",
     "text": [
      "Number of words: 29390\n",
      "Processing time: 0.04458451271057129\n"
     ]
    }
   ],
   "source": [
    "import urllib.request\n",
    "import string\n",
    "import time\n",
    "\n",
    "text = str(urllib.request.urlopen('http://www.gutenberg.org/files/11/11-0.txt').read().decode(encoding='utf-8'))\n",
    "\n",
    "start = time.time()\n",
    "\n",
    "exclude = set(string.punctuation)\n",
    "text = ''.join(ch for ch in txt  if ch not in exclude)\n",
    "\n",
    "words = text.split()\n",
    "words = list(map(lambda x: 1, words))\n",
    "words_count = reduce(lambda x,y: x+y, words)\n",
    "print(\"Number of words: \" + str(words_count))\n",
    "\n",
    "end = time.time()\n",
    "print(\"Processing time: \" + str(end - start))"
   ]
  },
  {
   "cell_type": "code",
   "execution_count": 72,
   "metadata": {},
   "outputs": [
    {
     "name": "stdout",
     "output_type": "stream",
     "text": [
      "\n",
      "Couldn't open links for: ['5740', '33283']\n",
      "Words count: \n",
      "[5142, 5142, 5142, 5142, 5142, 5142, 5142, 5142, 5142, 5142, 5142, 5142, 5142, 5142, 5142, 5142, 5142, 5142, 5142, 5142, 5142, 5142, 5142, 5142, 5142, 5142, 5142, 5142, 5142, 5142, 5142, 5142, 5142, 5142, 5142, 5142, 5142, 5142, 5142, 5142, 5142, 5142, 5142, 5142, 5142, 5142, 5142, 5142, 5142, 5142, 5142, 5142, 5142, 5142, 5142, 5142, 5142, 5142, 5142, 5142, 5142, 5142, 5142, 5142, 5142, 5142, 5142, 5142, 5142, 5142, 5142, 5142, 5142, 5142, 5142, 5142, 5142, 5142, 5142, 5142, 5142, 5142, 5142, 5142, 5142, 5142, 5142, 5142, 5142, 5142, 5142, 5142, 5142, 5142, 5142, 5142, 5142, 5142]\n",
      "Problems that could appear was wrong links and not UTF-8 plain text available\n"
     ]
    }
   ],
   "source": [
    "import re\n",
    "\n",
    "start = time.time()\n",
    "txt = str(urllib.request.urlopen('https://www.gutenberg.org/browse/scores/top').read().decode(encoding='utf-8'))\n",
    "\n",
    "links = re.findall(r'(ebooks\\/[0-9]+)',txt)\n",
    "links = links[0:100]\n",
    "links = list(map(lambda x: x[7:],links))\n",
    "\n",
    "words_count = []\n",
    "times = []\n",
    "link_errors = []\n",
    "\n",
    "for link in links :\n",
    "    url=\"http://www.gutenberg.org/cache/epub/{}/pg{}.txt\".format(link,link)\n",
    "    \n",
    "    try:\n",
    "        text= str(urllib.request.urlopen(url).read().decode(encoding='utf-8',errors='ignore'))\n",
    "    except urllib.request.HTTPError:\n",
    "        try:\n",
    "            url2=\"https://www.gutenberg.org/files/{}/{}-0.txt\".format(link,link)\n",
    "            text= str(urllib.request.urlopen(url2).read().decode(encoding='utf-8',errors='ignore'))\n",
    "        except urllib.request.HTTPError:\n",
    "            link_errors.append(link)\n",
    "            continue    \n",
    "    \n",
    "    start = time.time()\n",
    "\n",
    "    exclude = set(string.punctuation)\n",
    "    text = ''.join(ch for ch in txt  if ch not in exclude)\n",
    "\n",
    "    words = txt.split()\n",
    "    words = list(map(lambda x: 1, words))\n",
    "    \n",
    "    words_count.append(reduce(lambda x,y: x+y, words))\n",
    "\n",
    "    end = time.time()\n",
    "    times.append(end-start)\n",
    "\n",
    "print(\"\\nCouldn't open links for: {}\".format(link_errors))\n",
    "\n",
    "print(\"Words count: \")\n",
    "print(words_count)\n",
    "\n",
    "print(\"Problems that could appear was wrong links and not UTF-8 plain text available\")"
   ]
  },
  {
   "cell_type": "code",
   "execution_count": null,
   "metadata": {
    "collapsed": true
   },
   "outputs": [],
   "source": []
  }
 ],
 "metadata": {
  "kernelspec": {
   "display_name": "Python 3",
   "language": "python",
   "name": "python3"
  },
  "language_info": {
   "codemirror_mode": {
    "name": "ipython",
    "version": 3
   },
   "file_extension": ".py",
   "mimetype": "text/x-python",
   "name": "python",
   "nbconvert_exporter": "python",
   "pygments_lexer": "ipython3",
   "version": "3.6.2"
  }
 },
 "nbformat": 4,
 "nbformat_minor": 2
}
